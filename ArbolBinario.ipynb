{
  "nbformat": 4,
  "nbformat_minor": 0,
  "metadata": {
    "colab": {
      "name": "ArbolBinario.ipynb",
      "provenance": [],
      "authorship_tag": "ABX9TyOL/lPn7xkbzfs/Vrda2CCQ",
      "include_colab_link": true
    },
    "kernelspec": {
      "name": "python3",
      "display_name": "Python 3"
    }
  },
  "cells": [
    {
      "cell_type": "markdown",
      "metadata": {
        "id": "view-in-github",
        "colab_type": "text"
      },
      "source": [
        "<a href=\"https://colab.research.google.com/github/MarcoIvanNajeraDiaz/daa_2021_1/blob/master/ArbolBinario.ipynb\" target=\"_parent\"><img src=\"https://colab.research.google.com/assets/colab-badge.svg\" alt=\"Open In Colab\"/></a>"
      ]
    },
    {
      "cell_type": "code",
      "metadata": {
        "colab": {
          "base_uri": "https://localhost:8080/",
          "height": 339
        },
        "id": "aRAonPOtiPNh",
        "outputId": "d6a6b3a0-07d4-4ae1-d529-bfcacb46c85b"
      },
      "source": [
        "class Nodo:\r\n",
        "    def __init__( self , data ):\r\n",
        "        self.left = None\r\n",
        "        self.right = None\r\n",
        "        self.data = data\r\n",
        "\r\n",
        "def insertar( raiz , nodo ): # En esta funcion se van creando los nodos que llevara el arbol \r\n",
        "    if raiz is None:\r\n",
        "        raiz = nodo\r\n",
        "    else: \r\n",
        "        if raiz.data < nodo.data:\r\n",
        "            if raiz.right is None:\r\n",
        "                raiz.right = nodo\r\n",
        "            else:\r\n",
        "                insertar( raiz.right , nodo )\r\n",
        "        else:\r\n",
        "            if raiz.left is None:   \r\n",
        "                raiz.left = nodo\r\n",
        "            else:\r\n",
        "                insertar( raiz.left , nodo )\r\n",
        "\r\n",
        "def preorden(raiz): \r\n",
        "#En esta funcion lo que hace es el ordenar en la forma de 'preorden' el arbol binario, eso quiere\r\n",
        "#decir que sera desde la raiz bajando por los hijos y en consecuencia a las hojas que encuentre.\r\n",
        "    if raiz is not None:\r\n",
        "        print(raiz.data)\r\n",
        "        preorden(raiz.left)\r\n",
        "        preorden(raiz.right)\r\n",
        "\r\n",
        "def cont_hijo(raiz):\r\n",
        "#Aqui ira almacenando los nodos hijos en la variable contador y retornara el valor\r\n",
        "#de cada nodo hijo.\r\n",
        "    contador = 0\r\n",
        "    if raiz.left:\r\n",
        "        contador += 1\r\n",
        "    if raiz.right:\r\n",
        "        contador += 1\r\n",
        "    return contador \r\n",
        "\r\n",
        "def impresion_hojas(raiz):\r\n",
        "#En la funcion impresion hojas va a regresar los valores en los nodos que se \r\n",
        "#consideren 'hojas' eso quiere decir que no tendria hijos ni a la izqierda\r\n",
        "#ni a la derecha.\r\n",
        "\r\n",
        "    if raiz.cont_hijo() == 0:\r\n",
        "        print(raiz.data)\r\n",
        "        return \r\n",
        "\r\n",
        "    if raiz.left:\r\n",
        "        raiz.left.impresion_hojas()\r\n",
        "    if raiz.right:\r\n",
        "        raiz.right.impresion_hojas()\r\n",
        "\r\n",
        "#Y por ultimo en donde se le da el valor a cada nodo que se ha de insertar en el\r\n",
        "#arbol, comenzando con la raiz y continuando con los hijos, al llamar a la \r\n",
        "#funcion preorden, nos imprimira el arbol ya recorrido (ordenado) y por ultimo \r\n",
        "#se imprimiria los nodos hojas, lamentablemente desconozco porque me lanza el \r\n",
        "#error 'El objeto Nodo no tiene de atributo impresion_hojas' estuve intentando \r\n",
        "#corregirlo sin embargo sin exito alguno, aunque no me cabe duda que de esta forma\r\n",
        "#se imprimen los nodos hojas, cabe resaltar que aqui mismo inclui los datos de 3 \r\n",
        "#arboles más, como bien lo piden, e intercambiando los valores con esos arboles el\r\n",
        "#algoritmo tanto de insertar el valor a cada nodo y el del preorden funcionan a la\r\n",
        "#perfeccion.\r\n",
        "\r\n",
        "#1er Arbol              #2do Arbol, 3er Arbol, 4to Arbol\r\n",
        "raiz = Nodo(10)         #   21    ,     36   ,    4\r\n",
        "insertar(raiz, Nodo(15))#   33    ,     51   ,    8\r\n",
        "insertar(raiz, Nodo(7)) #   13    ,     16   ,    2\r\n",
        "insertar(raiz, Nodo(9)) #   18    ,     8    ,    3\r\n",
        "insertar(raiz, Nodo(5)) #   10    ,          ,    1\r\n",
        "insertar(raiz, Nodo(19))#   40    ,     84   ,    \r\n",
        "insertar(raiz, Nodo(14))#   25    ,     41   ,    9\r\n",
        "preorden(raiz)\r\n",
        "raiz.impresion_hojas()"
      ],
      "execution_count": 12,
      "outputs": [
        {
          "output_type": "stream",
          "text": [
            "10\n",
            "7\n",
            "5\n",
            "9\n",
            "15\n",
            "14\n",
            "19\n"
          ],
          "name": "stdout"
        },
        {
          "output_type": "error",
          "ename": "AttributeError",
          "evalue": "ignored",
          "traceback": [
            "\u001b[0;31m---------------------------------------------------------------------------\u001b[0m",
            "\u001b[0;31mAttributeError\u001b[0m                            Traceback (most recent call last)",
            "\u001b[0;32m<ipython-input-12-7fee210c5968>\u001b[0m in \u001b[0;36m<module>\u001b[0;34m()\u001b[0m\n\u001b[1;32m     72\u001b[0m \u001b[0minsertar\u001b[0m\u001b[0;34m(\u001b[0m\u001b[0mraiz\u001b[0m\u001b[0;34m,\u001b[0m \u001b[0mNodo\u001b[0m\u001b[0;34m(\u001b[0m\u001b[0;36m14\u001b[0m\u001b[0;34m)\u001b[0m\u001b[0;34m)\u001b[0m\u001b[0;31m#   25    ,     41   ,    9\u001b[0m\u001b[0;34m\u001b[0m\u001b[0;34m\u001b[0m\u001b[0m\n\u001b[1;32m     73\u001b[0m \u001b[0mpreorden\u001b[0m\u001b[0;34m(\u001b[0m\u001b[0mraiz\u001b[0m\u001b[0;34m)\u001b[0m\u001b[0;34m\u001b[0m\u001b[0;34m\u001b[0m\u001b[0m\n\u001b[0;32m---> 74\u001b[0;31m \u001b[0mraiz\u001b[0m\u001b[0;34m.\u001b[0m\u001b[0mimpresion_hojas\u001b[0m\u001b[0;34m(\u001b[0m\u001b[0;34m)\u001b[0m\u001b[0;34m\u001b[0m\u001b[0;34m\u001b[0m\u001b[0m\n\u001b[0m",
            "\u001b[0;31mAttributeError\u001b[0m: 'Nodo' object has no attribute 'impresion_hojas'"
          ]
        }
      ]
    }
  ]
}