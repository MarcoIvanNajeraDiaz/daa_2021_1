{
  "nbformat": 4,
  "nbformat_minor": 0,
  "metadata": {
    "colab": {
      "name": "DatosEstadisticos.ipynb",
      "provenance": [],
      "authorship_tag": "ABX9TyPS4pT5y2AAtMf+XSdM88ad",
      "include_colab_link": true
    },
    "kernelspec": {
      "name": "python3",
      "display_name": "Python 3"
    }
  },
  "cells": [
    {
      "cell_type": "markdown",
      "metadata": {
        "id": "view-in-github",
        "colab_type": "text"
      },
      "source": [
        "<a href=\"https://colab.research.google.com/github/MarcoIvanNajeraDiaz/daa_2021_1/blob/master/DatosEstadisticos.ipynb\" target=\"_parent\"><img src=\"https://colab.research.google.com/assets/colab-badge.svg\" alt=\"Open In Colab\"/></a>"
      ]
    },
    {
      "cell_type": "code",
      "metadata": {
        "id": "drQIz_MiAiDN",
        "outputId": "bdde91e3-0c63-4069-dffa-e0a3ee3ee40c",
        "colab": {
          "base_uri": "https://localhost:8080/",
          "height": 261
        }
      },
      "source": [
        "#Author: Marco Ivan Najera Diaz\n",
        "\n",
        "import csv\n",
        "import math\n",
        "import numpy \n",
        "\n",
        "print(\"Favor de digitar a partir del numero 1\")\n",
        "print(\"1. Acidez Fija 2. Acidez Volatil 3. Ácido Citrico 4. Azucar Residual 5. Clorhídricos\"\n",
        "\" 6. Dioxido de sulfuro libre 7. Dioxido de sulfuro total 8. Densidad 9. PH 10. Sulfatos\"\n",
        "\" 11. Alcohol 12. Calidad\")\n",
        "\n",
        "def lista(columnaA,columnaB):\n",
        "    datosA = []\n",
        "    with open('A.csv') as documentoA:\n",
        "        lineasA = documentoA.read().splitlines()\n",
        "        lineasA.pop(0)\n",
        "\n",
        "        for i in lineasA:\n",
        "            lineaA=i.split(',')\n",
        "            datosA.append([float(lineaA[columnaA])])\n",
        "\n",
        "    datosB = []\n",
        "    with open('B.csv') as documentoB:\n",
        "        lineasB = documentoB.read().splitlines()\n",
        "        lineasB.pop(0)\n",
        "        for i in lineasB:\n",
        "            lineaB=i.split(',')\n",
        "            datosB.append([float(lineaB[columnaB])])\n",
        "    \n",
        "    listaA=[] \n",
        "    for i in datosA:\n",
        "        listaA.append(i[0])\n",
        "    totalA=len(listaA)\n",
        "\n",
        "    listaB=[]\n",
        "    for i in datosB:\n",
        "        listaB.append(i[0])\n",
        "    totalB=len(listaB)\n",
        "\n",
        "    #Media\n",
        "    sumA=0\n",
        "    sumB=0\n",
        "    for i in listaA:\n",
        "        sumA=sumA+i\n",
        "        mediaA = sumA /totalA\n",
        "    #Varianza\n",
        "    varianzaA=numpy.var(listaA)\n",
        "    #Desviacion Estandar\n",
        "    desviacionA=math.sqrt(varianzaA)\n",
        "    print(\"\")\n",
        "    print(f\"La media del documento A es: {mediaA}\")\n",
        "    print(f\"La varianza del documento A es: {varianzaA}\")\n",
        "    print(f\"La desviación estándar del documento A es: {desviacionA} \")\n",
        "    for i in listaB:\n",
        "        sumB=sumB+i\n",
        "        mediaB = sumB/totalB\n",
        "    varianzaB=numpy.var(listaB)\n",
        "    desviacionB=math.sqrt(varianzaB)\n",
        "    print(\"\")\n",
        "    print(f\"La media del documento B es: {mediaB}\")\n",
        "    print(f\"La varianza del documento B es: {varianzaB}\")\n",
        "    print(f\"La desviación estándar del documento B es: {desviacionB} \")\n",
        "\n",
        "entradaA=int(input(\"Selecciona el número que quieres de columna en el documento A: \"))\n",
        "entradaB=int(input(\"Selecciona el número que quieres de columna en el documento B: \"))\n",
        "lista(entradaA-1,entradaB-1)\n"
      ],
      "execution_count": 58,
      "outputs": [
        {
          "output_type": "stream",
          "text": [
            "Favor de digitar a partir del numero 1\n",
            "1. Acidez Fija 2. Acidez Volatil 3. Ácido Citrico 4. Azucar Residual 5. Clorhídricos 6. Dioxido de sulfuro libre 7. Dioxido de sulfuro total 8. Densidad 9. PH 10. Sulfatos 11. Alcohol 12. Calidad\n",
            "Selecciona el número que quieres de columna en el documento A: 1\n",
            "Selecciona el número que quieres de columna en el documento B: 1\n",
            "\n",
            "La media del documento A es: 8.319637273295838\n",
            "La varianza del documento A es: 3.0295205688671114\n",
            "La desviación estándar del documento A es: 1.7405518001102729 \n",
            "\n",
            "La media del documento B es: 6.854787668436075\n",
            "La varianza del documento B es: 0.7119681970549558\n",
            "La desviación estándar del documento B es: 0.8437820791264506 \n"
          ],
          "name": "stdout"
        }
      ]
    }
  ]
}