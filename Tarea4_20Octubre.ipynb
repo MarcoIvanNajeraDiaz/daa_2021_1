{
  "nbformat": 4,
  "nbformat_minor": 0,
  "metadata": {
    "colab": {
      "name": "Tarea4-20Octubre.ipynb",
      "provenance": [],
      "authorship_tag": "ABX9TyOTQ7GLpv8ugU8BNTpyVfT1",
      "include_colab_link": true
    },
    "kernelspec": {
      "name": "python3",
      "display_name": "Python 3"
    }
  },
  "cells": [
    {
      "cell_type": "markdown",
      "metadata": {
        "id": "view-in-github",
        "colab_type": "text"
      },
      "source": [
        "<a href=\"https://colab.research.google.com/github/MarcoIvanNajeraDiaz/daa_2021_1/blob/master/Tarea4_20Octubre.ipynb\" target=\"_parent\"><img src=\"https://colab.research.google.com/assets/colab-badge.svg\" alt=\"Open In Colab\"/></a>"
      ]
    },
    {
      "cell_type": "code",
      "metadata": {
        "id": "Gqs3J2fTNzNh",
        "outputId": "404a043a-3064-48c3-bb3d-82783596f3e7",
        "colab": {
          "base_uri": "https://localhost:8080/",
          "height": 148
        }
      },
      "source": [
        "#Author: Marco Ivan Najera Diaz\n",
        "def ejemplo4( n ):\n",
        "    count = 0\n",
        "    i = n\n",
        "    print(\"nivel 1\")\n",
        "    while i>=1 :\n",
        "        count += 1\n",
        "        i = i // 2\n",
        "        print(\"nivel 2\")\n",
        "    basura = 3 + 2\n",
        "    return count - 1 \n",
        "ejemplo4( 16 )"
      ],
      "execution_count": 13,
      "outputs": [
        {
          "output_type": "stream",
          "text": [
            "nivel 1\n",
            "nivel 2\n",
            "nivel 2\n",
            "nivel 2\n",
            "nivel 2\n",
            "nivel 2\n"
          ],
          "name": "stdout"
        },
        {
          "output_type": "execute_result",
          "data": {
            "text/plain": [
              "4"
            ]
          },
          "metadata": {
            "tags": []
          },
          "execution_count": 13
        }
      ]
    }
  ]
}