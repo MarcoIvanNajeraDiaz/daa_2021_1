{
  "nbformat": 4,
  "nbformat_minor": 0,
  "metadata": {
    "colab": {
      "name": "25Noviembre.ipynb",
      "provenance": [],
      "authorship_tag": "ABX9TyMtb/JOLv/bnhaDaEcgixGx",
      "include_colab_link": true
    },
    "kernelspec": {
      "name": "python3",
      "display_name": "Python 3"
    }
  },
  "cells": [
    {
      "cell_type": "markdown",
      "metadata": {
        "id": "view-in-github",
        "colab_type": "text"
      },
      "source": [
        "<a href=\"https://colab.research.google.com/github/MarcoIvanNajeraDiaz/daa_2021_1/blob/master/25Noviembre.ipynb\" target=\"_parent\"><img src=\"https://colab.research.google.com/assets/colab-badge.svg\" alt=\"Open In Colab\"/></a>"
      ]
    },
    {
      "cell_type": "code",
      "metadata": {
        "colab": {
          "base_uri": "https://localhost:8080/"
        },
        "id": "tDSLwzWU5Jzd",
        "outputId": "42815dd2-cc23-4ded-c783-64a16bf8b7be"
      },
      "source": [
        "frase = \"\"\"El lema que anima a la Universidad Nacional, Por mi raza hablará el espíritu, revela la vocación humanística con la que fue concebida. El autor de esta célebre frase, José Vasconcelos, asumió la rectoría en 1920, en una época en que las esperanzas de la Revolución aún estaban vivas,\n",
        " había una gran fé en la Patria y el ánimo redentor se extendía en el ambiente.\"\"\"\n",
        "\n",
        "frase = frase.strip().replace(\"\\n\",\"\").replace(\",\",\"\").replace(\".\",\"\").lower().split(\" \")\n",
        "print(frase)\n",
        "frecuencias = {}\n",
        "for index in range(len(frase)):\n",
        "    if frase[index] in frecuencias: #'el' in frecuencias:\n",
        "        pass\n",
        "    else: \n",
        "        frecuencias[frase[index]] = 1 #frecuencias['el'] = 1 --> {'el'+1}\n",
        "        for pivote in range(index +1,len(frase),1):\n",
        "            #print(frase[index], \"comparada contra: \" , frase[ pivote ])\n",
        "            if frase[index] == frase[pivote]:\n",
        "                frecuencias[frase[index]] += 1\n",
        "\n",
        "print(frecuencias) \n"
      ],
      "execution_count": 6,
      "outputs": [
        {
          "output_type": "stream",
          "text": [
            "['el', 'lema', 'que', 'anima', 'a', 'la', 'universidad', 'nacional', 'por', 'mi', 'raza', 'hablará', 'el', 'espíritu', 'revela', 'la', 'vocación', 'humanística', 'con', 'la', 'que', 'fue', 'concebida', 'el', 'autor', 'de', 'esta', 'célebre', 'frase', 'josé', 'vasconcelos', 'asumió', 'la', 'rectoría', 'en', '1920', 'en', 'una', 'época', 'en', 'que', 'las', 'esperanzas', 'de', 'la', 'revolución', 'aún', 'estaban', 'vivas', 'había', 'una', 'gran', 'fé', 'en', 'la', 'patria', 'y', 'el', 'ánimo', 'redentor', 'se', 'extendía', 'en', 'el', 'ambiente']\n",
            "{'el': 5, 'lema': 1, 'que': 3, 'anima': 1, 'a': 1, 'la': 6, 'universidad': 1, 'nacional': 1, 'por': 1, 'mi': 1, 'raza': 1, 'hablará': 1, 'espíritu': 1, 'revela': 1, 'vocación': 1, 'humanística': 1, 'con': 1, 'fue': 1, 'concebida': 1, 'autor': 1, 'de': 2, 'esta': 1, 'célebre': 1, 'frase': 1, 'josé': 1, 'vasconcelos': 1, 'asumió': 1, 'rectoría': 1, 'en': 5, '1920': 1, 'una': 2, 'época': 1, 'las': 1, 'esperanzas': 1, 'revolución': 1, 'aún': 1, 'estaban': 1, 'vivas': 1, 'había': 1, 'gran': 1, 'fé': 1, 'patria': 1, 'y': 1, 'ánimo': 1, 'redentor': 1, 'se': 1, 'extendía': 1, 'ambiente': 1}\n"
          ],
          "name": "stdout"
        }
      ]
    },
    {
      "cell_type": "code",
      "metadata": {
        "colab": {
          "base_uri": "https://localhost:8080/"
        },
        "id": "pxb4pdjy_SBK",
        "outputId": "ab87a220-1bd7-45f5-e6c0-1c10d658c1f3"
      },
      "source": [
        "frase = \"\"\"El lema que anima a la Universidad Nacional, Por mi raza hablará el espíritu, revela la vocación humanística con la que fue concebida. El autor de esta célebre frase, José Vasconcelos, asumió la rectoría en 1920, en una época en que las esperanzas de la Revolución aún estaban vivas,\n",
        " había una gran fé en la Patria y el ánimo redentor se extendía en el ambiente.\"\"\"\n",
        "\n",
        "frase = frase.strip().replace(\"\\n\",\"\").replace(\",\",\"\").replace(\".\",\"\").lower().split(\" \")\n",
        "print(frase)\n",
        "frecuencias = {}\n",
        "for index in range(len(frase)):\n",
        "    print(hash(frase[index]))\n",
        "    if frase[index] in frecuencias:\n",
        "        frecuencias[frase[index]] += 1\n",
        "    else: \n",
        "        frecuencias[frase[index]] = 1\n",
        "print(frecuencias)"
      ],
      "execution_count": 9,
      "outputs": [
        {
          "output_type": "stream",
          "text": [
            "['el', 'lema', 'que', 'anima', 'a', 'la', 'universidad', 'nacional', 'por', 'mi', 'raza', 'hablará', 'el', 'espíritu', 'revela', 'la', 'vocación', 'humanística', 'con', 'la', 'que', 'fue', 'concebida', 'el', 'autor', 'de', 'esta', 'célebre', 'frase', 'josé', 'vasconcelos', 'asumió', 'la', 'rectoría', 'en', '1920', 'en', 'una', 'época', 'en', 'que', 'las', 'esperanzas', 'de', 'la', 'revolución', 'aún', 'estaban', 'vivas', 'había', 'una', 'gran', 'fé', 'en', 'la', 'patria', 'y', 'el', 'ánimo', 'redentor', 'se', 'extendía', 'en', 'el', 'ambiente']\n",
            "-6076058829341576269\n",
            "-1273839022473899862\n",
            "2274157573795151401\n",
            "3345445275077476779\n",
            "7339232762912220326\n",
            "-1837736594490620000\n",
            "-7373327709296679476\n",
            "-5241960425124136293\n",
            "-4530900769306142564\n",
            "-6776305028360329073\n",
            "-1530599939322911615\n",
            "-6635546036946190761\n",
            "-6076058829341576269\n",
            "-5388247566793760897\n",
            "7457288724607908322\n",
            "-1837736594490620000\n",
            "-1453702998664307680\n",
            "666999745265244180\n",
            "-7547090316486824999\n",
            "-1837736594490620000\n",
            "2274157573795151401\n",
            "-3583469883612881120\n",
            "4742102677156353100\n",
            "-6076058829341576269\n",
            "-8062688519676915162\n",
            "2230249185110227159\n",
            "6659826789879189768\n",
            "3869088964597922999\n",
            "5633156107710609047\n",
            "-7988085710986073309\n",
            "4706770949409287559\n",
            "9081459612785711747\n",
            "-1837736594490620000\n",
            "-3011910867382542926\n",
            "7226949124614521984\n",
            "-7648345018950699685\n",
            "7226949124614521984\n",
            "627230214695336807\n",
            "1912203276407748689\n",
            "7226949124614521984\n",
            "2274157573795151401\n",
            "7916912309493609350\n",
            "-2674307695131300153\n",
            "2230249185110227159\n",
            "-1837736594490620000\n",
            "1088672191134307965\n",
            "-5166671035622337909\n",
            "3098752613117421261\n",
            "-7368581311942616211\n",
            "-6623825697187303383\n",
            "627230214695336807\n",
            "5561848264656664249\n",
            "-6132285756366325366\n",
            "7226949124614521984\n",
            "-1837736594490620000\n",
            "-8755875046874025681\n",
            "5769192204676484351\n",
            "-6076058829341576269\n",
            "-7486595770648863894\n",
            "-7190610852593074093\n",
            "3818187271347527504\n",
            "-9124834997497454638\n",
            "7226949124614521984\n",
            "-6076058829341576269\n",
            "-3111596171277426838\n",
            "{'el': 5, 'lema': 1, 'que': 3, 'anima': 1, 'a': 1, 'la': 6, 'universidad': 1, 'nacional': 1, 'por': 1, 'mi': 1, 'raza': 1, 'hablará': 1, 'espíritu': 1, 'revela': 1, 'vocación': 1, 'humanística': 1, 'con': 1, 'fue': 1, 'concebida': 1, 'autor': 1, 'de': 2, 'esta': 1, 'célebre': 1, 'frase': 1, 'josé': 1, 'vasconcelos': 1, 'asumió': 1, 'rectoría': 1, 'en': 5, '1920': 1, 'una': 2, 'época': 1, 'las': 1, 'esperanzas': 1, 'revolución': 1, 'aún': 1, 'estaban': 1, 'vivas': 1, 'había': 1, 'gran': 1, 'fé': 1, 'patria': 1, 'y': 1, 'ánimo': 1, 'redentor': 1, 'se': 1, 'extendía': 1, 'ambiente': 1}\n"
          ],
          "name": "stdout"
        }
      ]
    }
  ]
}