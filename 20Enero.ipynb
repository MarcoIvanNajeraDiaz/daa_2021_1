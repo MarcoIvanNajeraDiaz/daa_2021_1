{
  "nbformat": 4,
  "nbformat_minor": 0,
  "metadata": {
    "colab": {
      "name": "20Enero.ipynb",
      "provenance": [],
      "collapsed_sections": [],
      "authorship_tag": "ABX9TyNG0j/K3dL6P3RuFcP2zkbm",
      "include_colab_link": true
    },
    "kernelspec": {
      "name": "python3",
      "display_name": "Python 3"
    }
  },
  "cells": [
    {
      "cell_type": "markdown",
      "metadata": {
        "id": "view-in-github",
        "colab_type": "text"
      },
      "source": [
        "<a href=\"https://colab.research.google.com/github/MarcoIvanNajeraDiaz/daa_2021_1/blob/master/20Enero.ipynb\" target=\"_parent\"><img src=\"https://colab.research.google.com/assets/colab-badge.svg\" alt=\"Open In Colab\"/></a>"
      ]
    },
    {
      "cell_type": "code",
      "metadata": {
        "id": "21OtXJ_mMW0-"
      },
      "source": [
        "class NodoArbol:\r\n",
        "    def __init__( self , dato ,  hijo_izq=None , hijo_der=None):\r\n",
        "        self.dato = dato\r\n",
        "        self.left = hijo_izq\r\n",
        "        self.right = hijo_der"
      ],
      "execution_count": 8,
      "outputs": []
    },
    {
      "cell_type": "markdown",
      "metadata": {
        "id": "nIkp5kJAMj_0"
      },
      "source": [
        "#Arbol binario de busqueda\r\n",
        "\r\n",
        "Los nodos a la izq son menores a la raiz y los nodos a la derecha son mayores a la raiz.\r\n",
        "Pueden ser recorridos en: pre-orden, in-orden y post-orden"
      ]
    },
    {
      "cell_type": "code",
      "metadata": {
        "id": "0sYInCb_SvRd"
      },
      "source": [
        "class BinarySearchTree:\r\n",
        "    def __init__( self ):\r\n",
        "        self.__root = None\r\n",
        "\r\n",
        "    def insert( self , value ):\r\n",
        "        if self.__root == None:\r\n",
        "            self.__root = NodoArbol(value,None,None)\r\n",
        "        else:\r\n",
        "            #Preguntar si value es menor que root, de ser el caso\r\n",
        "            #insertar a la izq... Pero puede ser el caso que el\r\n",
        "            #sub arbol izq ya tenga muchos elementos\r\n",
        "            self.__insert_nodo__(self.__root , value)\r\n",
        "\r\n",
        "    def __insert_nodo__( self , nodo , value ):\r\n",
        "        if nodo.dato == value:\r\n",
        "            pass\r\n",
        "        elif value < nodo.dato: #Si es True va a la izquierda\r\n",
        "            if nodo.left == None: #Si hay espacio en la izquierda, ahi le toca\r\n",
        "                nodo.left = NodoArbol(value,None,None) #Insertamos el Nodo\r\n",
        "            else: \r\n",
        "                self.__insert_nodo__( nodo.left , value )#Buscar su posicion en subarbol izquierdo\r\n",
        "        else: #Ir a la derecha\r\n",
        "            if nodo.right == None:\r\n",
        "                nodo.right =  NodoArbol(value,None,None)\r\n",
        "            else: \r\n",
        "                self.__insert_nodo__(nodo.right,value)#Buscar su posicion en subarbol derecho \r\n",
        "\r\n",
        "    def buscar( self , value ):\r\n",
        "          if self.__root == None:\r\n",
        "              return None\r\n",
        "          else:\r\n",
        "              return self.__busca_nodo( self.__root , value )\r\n",
        "\r\n",
        "    def __busca_nodo( self , nodo , value ):\r\n",
        "          if nodo == None: \r\n",
        "              return None\r\n",
        "          elif nodo.dato == value:\r\n",
        "              return nodo\r\n",
        "          elif value < nodo.dato:\r\n",
        "              return self.__busca_nodo( nodo.left , value )\r\n",
        "          else:\r\n",
        "              return self.__busca_nodo( nodo.right , value )\r\n",
        "    \r\n",
        "    def transversal( self , format = \"inorden\" ):\r\n",
        "        if format == \"inorden\":\r\n",
        "            self.__recorrido_in(self.__root)\r\n",
        "        elif format == \"preorden\" :\r\n",
        "            self.__recorrido_pre(self.__root)\r\n",
        "        elif format ==\"posorden\":\r\n",
        "            self.__recorrido_pos(self.__root)\r\n",
        "        else: \r\n",
        "          print(\"Formato de recorrido no valido\")\r\n",
        "\r\n",
        "    def __recorrido_pre(self , nodo):\r\n",
        "        if nodo != None:\r\n",
        "            print (nodo.dato, end=\",\")\r\n",
        "            self.__recorrido_pre(nodo.left)\r\n",
        "            self.__recorrido_pre(nodo.right)\r\n",
        "\r\n",
        "    def __recorrido_in(self, nodo):\r\n",
        "        if nodo != None:\r\n",
        "            self.__recorrido_in(nodo.left)\r\n",
        "            print(nodo.dato, end=\",\")\r\n",
        "            self.__recorrido_in(nodo.right)\r\n",
        "\r\n",
        "    def __recorrido_pos(self,nodo):\r\n",
        "        if nodo != None:\r\n",
        "            self.__recorrido_pos(nodo.left)\r\n",
        "            self.__recorrido_pos(nodo.right)\r\n",
        "            print(nodo.dato, end=\",\")\r\n",
        "\r\n"
      ],
      "execution_count": 26,
      "outputs": []
    },
    {
      "cell_type": "code",
      "metadata": {
        "id": "EEby18cXbwY-",
        "colab": {
          "base_uri": "https://localhost:8080/"
        },
        "outputId": "ea7a645e-c213-49e6-b2a3-2a24431ecaa4"
      },
      "source": [
        "bst = BinarySearchTree()\r\n",
        "bst.insert(50)\r\n",
        "bst.insert(30)\r\n",
        "bst.insert(20)\r\n",
        "res = bst.buscar(30)#True or False\r\n",
        "print(\"Dato: \"+str(res))\r\n",
        "print(bst.buscar(40)) \r\n",
        "print(\"recorrido: \")\r\n",
        "bst.transversal(format=\"preorden\")\r\n"
      ],
      "execution_count": 29,
      "outputs": [
        {
          "output_type": "stream",
          "text": [
            "Dato: <__main__.NodoArbol object at 0x7fc51b45fa20>\n",
            "None\n",
            "recorrido: \n",
            "50,30,20,"
          ],
          "name": "stdout"
        }
      ]
    }
  ]
}