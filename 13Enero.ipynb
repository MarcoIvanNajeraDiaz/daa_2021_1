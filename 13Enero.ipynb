{
  "nbformat": 4,
  "nbformat_minor": 0,
  "metadata": {
    "colab": {
      "name": "13Enero.ipynb",
      "provenance": [],
      "authorship_tag": "ABX9TyO/yMxyEKVXfZxwdVqvb5RF",
      "include_colab_link": true
    },
    "kernelspec": {
      "name": "python3",
      "display_name": "Python 3"
    }
  },
  "cells": [
    {
      "cell_type": "markdown",
      "metadata": {
        "id": "view-in-github",
        "colab_type": "text"
      },
      "source": [
        "<a href=\"https://colab.research.google.com/github/MarcoIvanNajeraDiaz/daa_2021_1/blob/master/13Enero.ipynb\" target=\"_parent\"><img src=\"https://colab.research.google.com/assets/colab-badge.svg\" alt=\"Open In Colab\"/></a>"
      ]
    },
    {
      "cell_type": "code",
      "metadata": {
        "id": "21OtXJ_mMW0-"
      },
      "source": [
        "class NodoArbol:\r\n",
        "    def __init__( self , dato ,  hijo_izq=None , hijo_der=None):\r\n",
        "        self.dato = dato\r\n",
        "        self.left = hijo_izq\r\n",
        "        self.right = hijo_der"
      ],
      "execution_count": 2,
      "outputs": []
    },
    {
      "cell_type": "markdown",
      "metadata": {
        "id": "nIkp5kJAMj_0"
      },
      "source": [
        "#Arbol binario de busqueda\r\n",
        "\r\n",
        "Los nodos a la izq son menores a la raiz y los nodos a la derecha son mayores a la raiz.\r\n",
        "Pueden ser recorridos en: pre-orden, in-orden y post-orden"
      ]
    },
    {
      "cell_type": "code",
      "metadata": {
        "id": "0sYInCb_SvRd"
      },
      "source": [
        "class BinarySearchTree:\r\n",
        "    def __init__( self ):\r\n",
        "        self.__root = None\r\n",
        "\r\n",
        "    def insert( self , value ):\r\n",
        "        if self.__root == None:\r\n",
        "            self.__root = NodoArbol(value,None,None)\r\n",
        "        else:\r\n",
        "            #Preguntar si value es menor que root, de ser el caso\r\n",
        "            #insertar a la izq... Pero puede ser el caso que el\r\n",
        "            #sub arbol izq ya tenga muchos elementos\r\n",
        "            self.__insert_nodo__(self.__root , value)\r\n",
        "\r\n",
        "    def __insert_nodo__( self , nodo , value ):\r\n",
        "        if nodo.dato == value:\r\n",
        "            pass\r\n",
        "        elif value < nodo.dato: #Si es True va a la izquierda\r\n",
        "            if nodo.left == None: #Si hay espacio en la izquierda, ahi le toca\r\n",
        "                nodo.left = NodoArbol(value,None,None) #Insertamos el Nodo\r\n",
        "            else: \r\n",
        "                self.__insert_nodo__( nodo.left , value )#Buscar su posicion en subarbol izquierdo\r\n",
        "        else: \r\n",
        "            if nodo.right == None:\r\n",
        "                nodo.right =  NodoArbol(value,None,None)\r\n",
        "            else: \r\n",
        "                self.__insert_nodo__(nodo.right,value)#Buscar su posicion en subarbol derecho \r\n",
        "\r\n",
        "\r\n",
        "\r\n"
      ],
      "execution_count": 1,
      "outputs": []
    },
    {
      "cell_type": "code",
      "metadata": {
        "id": "EEby18cXbwY-"
      },
      "source": [
        "bst = BinarySearchTree()\r\n",
        "bst.insert(50)\r\n",
        "bst.insert(30)\r\n",
        "bst.insert(20)\r\n",
        "bst.search(30)#True or False"
      ],
      "execution_count": null,
      "outputs": []
    }
  ]
}