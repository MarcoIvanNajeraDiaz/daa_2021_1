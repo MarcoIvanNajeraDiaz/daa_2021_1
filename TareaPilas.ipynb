{
  "nbformat": 4,
  "nbformat_minor": 0,
  "metadata": {
    "colab": {
      "name": "Untitled0.ipynb",
      "provenance": [],
      "authorship_tag": "ABX9TyNQCbTn4t1qdOh2qEzxgtUH",
      "include_colab_link": true
    },
    "kernelspec": {
      "name": "python3",
      "display_name": "Python 3"
    }
  },
  "cells": [
    {
      "cell_type": "markdown",
      "metadata": {
        "id": "view-in-github",
        "colab_type": "text"
      },
      "source": [
        "<a href=\"https://colab.research.google.com/github/MarcoIvanNajeraDiaz/daa_2021_1/blob/master/TareaPilas.ipynb\" target=\"_parent\"><img src=\"https://colab.research.google.com/assets/colab-badge.svg\" alt=\"Open In Colab\"/></a>"
      ]
    },
    {
      "cell_type": "markdown",
      "metadata": {
        "id": "tHBUn12yenYG"
      },
      "source": [
        "##Programa de balanceo de código \n",
        "Hacer un programa que valide el balanceo de parentesis (), corchetes cuadrados [], y pico parentesis {}\n",
        "*En programas del lenguaje C y Java (para generar pruebas)\n",
        "\n",
        "/*\n",
        "Autor: Marco Najera\n",
        "*/\n",
        "import java.util.Scanner;\n",
        "\n",
        "public class Cadena {\n",
        "\tpublic static void main(String[] args){\n",
        "\t\tScanner entrada = new Scanner(System.in);\n",
        "\t\tString num1,num2;\n",
        "\t\tSystem.out.println(\"Digite el primer numero: \");\n",
        "\t\tnum1 = entrada.next();\n",
        "\t\tSystem.out.println(\"Digite el segundo numero: \");\n",
        "\t\tnum2 = entrada.next();\n",
        "\t\tSystem.out.println(\"\"+num1+num2);\n",
        "\t}\n",
        "}"
      ]
    },
    {
      "cell_type": "code",
      "metadata": {
        "id": "CWBPu_1Ff3Gg"
      },
      "source": [
        "class Stack:\n",
        "  def __init__( self ):\n",
        "    self.__datos = []\n",
        "\n",
        "  def is_empty( self ):\n",
        "    return len( self.__datos ) == 0\n",
        "    \n",
        "  def pop( self ):\n",
        "    return self.__datos.pop()\n",
        "\n",
        "  def push( self , valor):\n",
        "    self.__datos.append(valor)\n"
      ],
      "execution_count": 4,
      "outputs": []
    },
    {
      "cell_type": "code",
      "metadata": {
        "id": "pnRnPVP_gNh2",
        "outputId": "0f06d850-5b8e-4eec-dca9-89f4810e069a",
        "colab": {
          "base_uri": "https://localhost:8080/",
          "height": 249
        }
      },
      "source": [
        "pila = Stack()\n",
        "archivo = open('Cadena.java')\n",
        "\n",
        "c = archivo.read(1)\n",
        "\n",
        "while c != '':\n",
        "  c = archivo.read(1)\n",
        "  if c == '[' or c == '(' or c == '{':\n",
        "    pila.push('@')\n",
        "archivo = open('Cadena.java')\n",
        "c = archivo.read(1)\n",
        "while c != '':\n",
        "  c = archivo,read(1)\n",
        "  if c == ']' or c == ')' or c == '}':\n",
        "    pila.pop()\n",
        "\n",
        "print(f\"¿Esta balanceado?: {pila.is_empty}\")"
      ],
      "execution_count": 3,
      "outputs": [
        {
          "output_type": "error",
          "ename": "FileNotFoundError",
          "evalue": "ignored",
          "traceback": [
            "\u001b[0;31m---------------------------------------------------------------------------\u001b[0m",
            "\u001b[0;31mFileNotFoundError\u001b[0m                         Traceback (most recent call last)",
            "\u001b[0;32m<ipython-input-3-5b13c56ed724>\u001b[0m in \u001b[0;36m<module>\u001b[0;34m()\u001b[0m\n\u001b[1;32m      1\u001b[0m \u001b[0mpila\u001b[0m \u001b[0;34m=\u001b[0m \u001b[0mStack\u001b[0m\u001b[0;34m(\u001b[0m\u001b[0;34m)\u001b[0m\u001b[0;34m\u001b[0m\u001b[0;34m\u001b[0m\u001b[0m\n\u001b[0;32m----> 2\u001b[0;31m \u001b[0marchivo\u001b[0m \u001b[0;34m=\u001b[0m \u001b[0mopen\u001b[0m\u001b[0;34m(\u001b[0m\u001b[0;34m'Cadena.java'\u001b[0m\u001b[0;34m)\u001b[0m\u001b[0;34m\u001b[0m\u001b[0;34m\u001b[0m\u001b[0m\n\u001b[0m\u001b[1;32m      3\u001b[0m \u001b[0;34m\u001b[0m\u001b[0m\n\u001b[1;32m      4\u001b[0m \u001b[0mc\u001b[0m \u001b[0;34m=\u001b[0m \u001b[0marchivo\u001b[0m\u001b[0;34m.\u001b[0m\u001b[0mread\u001b[0m\u001b[0;34m(\u001b[0m\u001b[0;36m1\u001b[0m\u001b[0;34m)\u001b[0m\u001b[0;34m\u001b[0m\u001b[0;34m\u001b[0m\u001b[0m\n\u001b[1;32m      5\u001b[0m \u001b[0;34m\u001b[0m\u001b[0m\n",
            "\u001b[0;31mFileNotFoundError\u001b[0m: [Errno 2] No such file or directory: 'Cadena.java'"
          ]
        }
      ]
    }
  ]
}