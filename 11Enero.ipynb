{
  "nbformat": 4,
  "nbformat_minor": 0,
  "metadata": {
    "colab": {
      "name": "11Enero.ipynb",
      "provenance": [],
      "collapsed_sections": [],
      "authorship_tag": "ABX9TyPWUcn95gQawG05ovY/d50k",
      "include_colab_link": true
    },
    "kernelspec": {
      "name": "python3",
      "display_name": "Python 3"
    }
  },
  "cells": [
    {
      "cell_type": "markdown",
      "metadata": {
        "id": "view-in-github",
        "colab_type": "text"
      },
      "source": [
        "<a href=\"https://colab.research.google.com/github/MarcoIvanNajeraDiaz/daa_2021_1/blob/master/11Enero.ipynb\" target=\"_parent\"><img src=\"https://colab.research.google.com/assets/colab-badge.svg\" alt=\"Open In Colab\"/></a>"
      ]
    },
    {
      "cell_type": "code",
      "metadata": {
        "id": "wYIwxRMi5WgW"
      },
      "source": [
        "class NodoArbol:\r\n",
        "    def __init__( self , value , left=None , right=None ):\r\n",
        "        self.data = value\r\n",
        "        self.left = left\r\n",
        "        self.right = right"
      ],
      "execution_count": 6,
      "outputs": []
    },
    {
      "cell_type": "code",
      "metadata": {
        "id": "flGi80fl8qzl"
      },
      "source": [
        "arbol = NodoArbol(\"R\", NodoArbol(\"C\"), NodoArbol(\"H\"))"
      ],
      "execution_count": 7,
      "outputs": []
    },
    {
      "cell_type": "code",
      "metadata": {
        "id": "bba6jr5a92nH"
      },
      "source": [
        "nodo1 = NodoArbol(\"C\")\r\n",
        "nodo2 = NodoArbol(\"H\")\r\n",
        "arbol_v2 = NodoArbol(\"R\", nodo1 , nodo2 )"
      ],
      "execution_count": 9,
      "outputs": []
    },
    {
      "cell_type": "code",
      "metadata": {
        "colab": {
          "base_uri": "https://localhost:8080/"
        },
        "id": "i8OMyIgN-KN7",
        "outputId": "d5a4d6cc-e15e-4efc-c027-a6181837a6b7"
      },
      "source": [
        "print(arbol.right.data)\r\n",
        "print(arbol_v2.right.data)"
      ],
      "execution_count": 10,
      "outputs": [
        {
          "output_type": "stream",
          "text": [
            "H\n",
            "H\n"
          ],
          "name": "stdout"
        }
      ]
    },
    {
      "cell_type": "code",
      "metadata": {
        "colab": {
          "base_uri": "https://localhost:8080/"
        },
        "id": "-9Ua-1FZ-xzK",
        "outputId": "95a7abe9-1c84-41b3-f210-42a45df1b7e1"
      },
      "source": [
        "arbol2 = NodoArbol(4,NodoArbol(3,NodoArbol(2,NodoArbol(2))),NodoArbol(5,None,None))\r\n",
        "print(arbol2.left.left.left.data)\r\n",
        "\r\n"
      ],
      "execution_count": 11,
      "outputs": [
        {
          "output_type": "stream",
          "text": [
            "2\n"
          ],
          "name": "stdout"
        }
      ]
    },
    {
      "cell_type": "code",
      "metadata": {
        "colab": {
          "base_uri": "https://localhost:8080/"
        },
        "id": "VO3nqsv5EAe5",
        "outputId": "a1861b36-3a8d-47c6-e292-562db9c8ec5c"
      },
      "source": [
        "aux = arbol2\r\n",
        "while aux.left != None:\r\n",
        "    aux = aux.left\r\n",
        "\r\n",
        "print(aux.data)"
      ],
      "execution_count": 12,
      "outputs": [
        {
          "output_type": "stream",
          "text": [
            "2\n"
          ],
          "name": "stdout"
        }
      ]
    },
    {
      "cell_type": "code",
      "metadata": {
        "colab": {
          "base_uri": "https://localhost:8080/"
        },
        "id": "wF43E0inEnNU",
        "outputId": "63725493-c1e6-4337-fdac-9d40d8c7cade"
      },
      "source": [
        "arbol3 = NodoArbol(\"Santi\", None, NodoArbol(\"Jesus\", NodoArbol(\"Pedro\", None,NodoArbol(\"Diana\")),None))\r\n",
        "print(arbol3.right.left.right.data)"
      ],
      "execution_count": 15,
      "outputs": [
        {
          "output_type": "stream",
          "text": [
            "Diana\n"
          ],
          "name": "stdout"
        }
      ]
    }
  ]
}