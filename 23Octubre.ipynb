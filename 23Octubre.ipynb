{
  "nbformat": 4,
  "nbformat_minor": 0,
  "metadata": {
    "colab": {
      "name": "23Octubre.ipynb",
      "provenance": [],
      "collapsed_sections": [],
      "authorship_tag": "ABX9TyO4pOHICezcC98wJA0lCDUC",
      "include_colab_link": true
    },
    "kernelspec": {
      "name": "python3",
      "display_name": "Python 3"
    }
  },
  "cells": [
    {
      "cell_type": "markdown",
      "metadata": {
        "id": "view-in-github",
        "colab_type": "text"
      },
      "source": [
        "<a href=\"https://colab.research.google.com/github/MarcoIvanNajeraDiaz/daa_2021_1/blob/master/23Octubre.ipynb\" target=\"_parent\"><img src=\"https://colab.research.google.com/assets/colab-badge.svg\" alt=\"Open In Colab\"/></a>"
      ]
    },
    {
      "cell_type": "code",
      "metadata": {
        "id": "JUdLcOwPZpb2",
        "outputId": "43bc828c-3d26-498f-984a-5b2bef511afe",
        "colab": {
          "base_uri": "https://localhost:8080/",
          "height": 386
        }
      },
      "source": [
        "from time import time\n",
        "def ejemplo1( n ):\n",
        "    start_time = time()\n",
        "    c = n + 1\n",
        "    d = c * n\n",
        "    e = n * n\n",
        "    total = c + e - d\n",
        "    elapsed_time = time() - start_time\n",
        "    print(\"Tiempo transcurrido: %0.10f segundos.\" % elapsed_time)\n",
        "    print(f\"total={ total }\")\n",
        "\n",
        "for entrada in range(100, 1100, 100):\n",
        "    ejemplo1(entrada)\n"
      ],
      "execution_count": null,
      "outputs": [
        {
          "output_type": "stream",
          "text": [
            "Tiempo transcurrido: 0.0000009537 segundos.\n",
            "total=1\n",
            "Tiempo transcurrido: 0.0000009537 segundos.\n",
            "total=1\n",
            "Tiempo transcurrido: 0.0000011921 segundos.\n",
            "total=1\n",
            "Tiempo transcurrido: 0.0000004768 segundos.\n",
            "total=1\n",
            "Tiempo transcurrido: 0.0000004768 segundos.\n",
            "total=1\n",
            "Tiempo transcurrido: 0.0000007153 segundos.\n",
            "total=1\n",
            "Tiempo transcurrido: 0.0000007153 segundos.\n",
            "total=1\n",
            "Tiempo transcurrido: 0.0000004768 segundos.\n",
            "total=1\n",
            "Tiempo transcurrido: 0.0000004768 segundos.\n",
            "total=1\n",
            "Tiempo transcurrido: 0.0000004768 segundos.\n",
            "total=1\n"
          ],
          "name": "stdout"
        }
      ]
    },
    {
      "cell_type": "code",
      "metadata": {
        "id": "qhJhhhTtaLjZ",
        "outputId": "b8696c91-aff5-4c32-c02b-1be6e6a3808b",
        "colab": {
          "base_uri": "https://localhost:8080/",
          "height": 202
        }
      },
      "source": [
        "from time import time\n",
        "def ejemplo2 ( n ):\n",
        "    start_time = time()\n",
        "    contador = 0\n",
        "    for i in range ( n ):\n",
        "        for j in range ( n ):\n",
        "            contador += 1\n",
        "    elapsed_time = time() - start_time\n",
        "    print(\"Tiempo transcurrido: %0.10f segundos.\" % elapsed_time)\n",
        "    return contador\n",
        "    \n",
        "for entrada in range(100, 1100, 100):\n",
        "    ejemplo2(entrada)"
      ],
      "execution_count": null,
      "outputs": [
        {
          "output_type": "stream",
          "text": [
            "Tiempo transcurrido: 0.0009186268 segundos.\n",
            "Tiempo transcurrido: 0.0027170181 segundos.\n",
            "Tiempo transcurrido: 0.0068719387 segundos.\n",
            "Tiempo transcurrido: 0.0102190971 segundos.\n",
            "Tiempo transcurrido: 0.0146231651 segundos.\n",
            "Tiempo transcurrido: 0.0193343163 segundos.\n",
            "Tiempo transcurrido: 0.0253586769 segundos.\n",
            "Tiempo transcurrido: 0.0329520702 segundos.\n",
            "Tiempo transcurrido: 0.0418660641 segundos.\n",
            "Tiempo transcurrido: 0.0524163246 segundos.\n"
          ],
          "name": "stdout"
        }
      ]
    },
    {
      "cell_type": "code",
      "metadata": {
        "id": "dhwp6eMHcbUQ",
        "outputId": "ec203a36-3af3-42f9-c68d-fbd93fd7caa1",
        "colab": {
          "base_uri": "https://localhost:8080/",
          "height": 202
        }
      },
      "source": [
        "from time import time\n",
        "def ejemplo3( n ): # n=4\n",
        "    start_time = time()\n",
        "    x = n * 2 # x = 8\n",
        "    y = 0   # y = 0\n",
        "    for m in range( 100 ): #3\n",
        "        y = x - n   # y = 4\n",
        "    elapsed_time = time() - start_time\n",
        "    print(\"Tiempo transcurrido: %0.10f segundos.\" % elapsed_time)\n",
        "    return y\n",
        "\n",
        "for entrada in range(100, 1100, 100):\n",
        "    ejemplo3(entrada)"
      ],
      "execution_count": null,
      "outputs": [
        {
          "output_type": "stream",
          "text": [
            "Tiempo transcurrido: 0.0000081062 segundos.\n",
            "Tiempo transcurrido: 0.0000071526 segundos.\n",
            "Tiempo transcurrido: 0.0000090599 segundos.\n",
            "Tiempo transcurrido: 0.0000085831 segundos.\n",
            "Tiempo transcurrido: 0.0000078678 segundos.\n",
            "Tiempo transcurrido: 0.0000078678 segundos.\n",
            "Tiempo transcurrido: 0.0000083447 segundos.\n",
            "Tiempo transcurrido: 0.0000081062 segundos.\n",
            "Tiempo transcurrido: 0.0000092983 segundos.\n",
            "Tiempo transcurrido: 0.0000090599 segundos.\n"
          ],
          "name": "stdout"
        }
      ]
    },
    {
      "cell_type": "code",
      "metadata": {
        "id": "6lrnrWBFfktR",
        "outputId": "607722d3-dfe1-4b93-87fe-f27176ff2cc9",
        "colab": {
          "base_uri": "https://localhost:8080/",
          "height": 202
        }
      },
      "source": [
        "from time import time\n",
        "def ejemplo4( n ):\n",
        "    start_time = time()\n",
        "    x = 3 * 3.1416 + n\n",
        "    y = x + 3 * 3 - n\n",
        "    z = x + y\n",
        "    elapsed_time = time() - start_time\n",
        "    print(\"Tiempo transcurrido: %0.10f segundos.\" % elapsed_time)\n",
        "    return z\n",
        "    \n",
        "for entrada in range(100, 1100, 100):\n",
        "    ejemplo4(entrada)"
      ],
      "execution_count": null,
      "outputs": [
        {
          "output_type": "stream",
          "text": [
            "Tiempo transcurrido: 0.0000009537 segundos.\n",
            "Tiempo transcurrido: 0.0000009537 segundos.\n",
            "Tiempo transcurrido: 0.0000004768 segundos.\n",
            "Tiempo transcurrido: 0.0000002384 segundos.\n",
            "Tiempo transcurrido: 0.0000004768 segundos.\n",
            "Tiempo transcurrido: 0.0000002384 segundos.\n",
            "Tiempo transcurrido: 0.0000002384 segundos.\n",
            "Tiempo transcurrido: 0.0000004768 segundos.\n",
            "Tiempo transcurrido: 0.0000002384 segundos.\n",
            "Tiempo transcurrido: 0.0000002384 segundos.\n"
          ],
          "name": "stdout"
        }
      ]
    },
    {
      "cell_type": "code",
      "metadata": {
        "id": "bYu5velzgaDF",
        "outputId": "7d3403e9-8caf-49a0-d5e3-074a701b5197",
        "colab": {
          "base_uri": "https://localhost:8080/",
          "height": 202
        }
      },
      "source": [
        "from time import time\n",
        "def ejemplo5( x ):\n",
        "    start_time = time()\n",
        "    n = 10\n",
        "    for j in range( 0 , x , 1 ):\n",
        "        n = j + n\n",
        "    elapsed_time = time() - start_time\n",
        "    print(\"Tiempo transcurrido: %0.10f segundos.\" % elapsed_time)\n",
        "    return n\n",
        "\n",
        "for entrada in range(100, 1100, 100):\n",
        "    ejemplo5(entrada)"
      ],
      "execution_count": null,
      "outputs": [
        {
          "output_type": "stream",
          "text": [
            "Tiempo transcurrido: 0.0000064373 segundos.\n",
            "Tiempo transcurrido: 0.0000181198 segundos.\n",
            "Tiempo transcurrido: 0.0000407696 segundos.\n",
            "Tiempo transcurrido: 0.0000376701 segundos.\n",
            "Tiempo transcurrido: 0.0000467300 segundos.\n",
            "Tiempo transcurrido: 0.0001223087 segundos.\n",
            "Tiempo transcurrido: 0.0000481606 segundos.\n",
            "Tiempo transcurrido: 0.0000524521 segundos.\n",
            "Tiempo transcurrido: 0.0000615120 segundos.\n",
            "Tiempo transcurrido: 0.0000767708 segundos.\n"
          ],
          "name": "stdout"
        }
      ]
    },
    {
      "cell_type": "code",
      "metadata": {
        "id": "S93YCzcUiWd7",
        "outputId": "232ce78e-efd9-4032-ceab-12fddec66c38",
        "colab": {
          "base_uri": "https://localhost:8080/",
          "height": 35
        }
      },
      "source": [
        "def ejemplo6( n ):\n",
        "    data=[[[1 for x in range(n)] for x in range(n)]\n",
        "          for x in range(n)]\n",
        "    suma = 0\n",
        "    for d in range(n):\n",
        "        for r in range(n):\n",
        "            for c in range(n):\n",
        "                suma += data[d][r][c]\n",
        "    return suma\n",
        "print(ejemplo6( 500 ))"
      ],
      "execution_count": null,
      "outputs": [
        {
          "output_type": "stream",
          "text": [
            "125000000\n"
          ],
          "name": "stdout"
        }
      ]
    },
    {
      "cell_type": "code",
      "metadata": {
        "id": "gYuO1HD_noDq",
        "outputId": "3bcc2875-33e5-4a8a-fb1c-130eb66cff53",
        "colab": {
          "base_uri": "https://localhost:8080/",
          "height": 204
        }
      },
      "source": [
        "from time import time\n",
        "\n",
        "def ejemplo6( n ):\n",
        "    start_time = time()\n",
        "    data=[[[1 for x in range(n)] for x in range(n)] \n",
        "          for x in range(n)]\n",
        "    suma = 0\n",
        "    for d in range(n):\n",
        "        for r in range(n):\n",
        "            for c in range(n):\n",
        "                suma += data[d][r][c]\n",
        "    elapsed_time = time() - start_time\n",
        "    print(\"Tiempo transcurrido: %0.10f segundos.\" % elapsed_time)\n",
        "    return suma\n",
        "for entrada in range(100, 1100, 100):\n",
        "    ejemplo6(entrada)"
      ],
      "execution_count": null,
      "outputs": [
        {
          "output_type": "stream",
          "text": [
            "Tiempo transcurrido: 0.1687972546 segundos.\n",
            "Tiempo transcurrido: 1.2353396416 segundos.\n",
            "Tiempo transcurrido: 3.8256647587 segundos.\n",
            "Tiempo transcurrido: 10.0534188747 segundos.\n",
            "Tiempo transcurrido: 18.6108305454 segundos.\n",
            "Tiempo transcurrido: 38.4021670818 segundos.\n",
            "Tiempo transcurrido: 55.6664996147 segundos.\n",
            "Tiempo transcurrido: 79.8464565277 segundos.\n",
            "Tiempo transcurrido: 115.1850812435 segundos.\n",
            "Tiempo transcurrido: 159.4811716080 segundos.\n"
          ],
          "name": "stdout"
        }
      ]
    },
    {
      "cell_type": "code",
      "metadata": {
        "id": "PRYfBA9yy3ZV",
        "outputId": "f9e0fb09-b23e-4e12-ef83-1d44f2d72880",
        "colab": {
          "base_uri": "https://localhost:8080/"
        }
      },
      "source": [
        "def ejemplo7(n):\n",
        "  count = 0\n",
        "  for i in range(n):\n",
        "      for j in range(25):\n",
        "          for k in range(n):\n",
        "              count += 1\n",
        "  return count"
      ],
      "execution_count": 2,
      "outputs": [
        {
          "output_type": "execute_result",
          "data": {
            "text/plain": [
              "225"
            ]
          },
          "metadata": {
            "tags": []
          },
          "execution_count": 2
        }
      ]
    },
    {
      "cell_type": "code",
      "metadata": {
        "id": "Jat4s_fV1VNk",
        "outputId": "b8281063-9f43-4373-b85f-5f83324d436b",
        "colab": {
          "base_uri": "https://localhost:8080/",
          "height": 35
        }
      },
      "source": [
        "def ejemplo7_2( n ):\n",
        "    count = 1\n",
        "    for i in range( n ) :\n",
        "        for j in range( 25 ) :\n",
        "            for k in range( n ):\n",
        "                count += 1\n",
        "            for k in range( n ):\n",
        "                count += 1\n",
        "    return count # 1 + 25n^2 +25n^2\n",
        "ejemplo7_2(3)"
      ],
      "execution_count": 1,
      "outputs": [
        {
          "output_type": "execute_result",
          "data": {
            "text/plain": [
              "451"
            ]
          },
          "metadata": {
            "tags": []
          },
          "execution_count": 1
        }
      ]
    },
    {
      "cell_type": "code",
      "metadata": {
        "id": "K7EBKOW23lNv",
        "outputId": "5dd56706-c1a6-45b9-c304-463d32c02970",
        "colab": {
          "base_uri": "https://localhost:8080/",
          "height": 35
        }
      },
      "source": [
        "numeros = [3,4,5,7,6]\n",
        "def ejemplo8( numeros ): # numeros es una lista (arreglo en c)\n",
        "    total = 0\n",
        "    for index in range(len(numeros)):\n",
        "        total = numeros[index]\n",
        "    return total\n",
        "ejemplo8(numeros)\n",
        "#T(n) = 1 + n"
      ],
      "execution_count": 4,
      "outputs": [
        {
          "output_type": "execute_result",
          "data": {
            "text/plain": [
              "6"
            ]
          },
          "metadata": {
            "tags": []
          },
          "execution_count": 4
        }
      ]
    },
    {
      "cell_type": "code",
      "metadata": {
        "id": "eViBLoqD4UCy",
        "outputId": "0ddef40e-d746-4a2c-cd0e-1b7c13d81e08",
        "colab": {
          "base_uri": "https://localhost:8080/",
          "height": 35
        }
      },
      "source": [
        "def ejemplo9(  n ):\n",
        "    contador = 0\n",
        "    basura = 0\n",
        "    for i in range( n ) :\n",
        "        contador += 1\n",
        "    for j in range( n ) :\n",
        "        contador += 1\n",
        "    basura = basura + contador\n",
        "    return contador\n",
        "\n",
        "print(ejemplo9( 5 ))\n",
        "#T(n) = 3 + 2n"
      ],
      "execution_count": 2,
      "outputs": [
        {
          "output_type": "stream",
          "text": [
            "10\n"
          ],
          "name": "stdout"
        }
      ]
    },
    {
      "cell_type": "code",
      "metadata": {
        "id": "qySXy6KH4z8e",
        "outputId": "4f4b5c93-2d89-4aeb-9d6d-5dd7eccd02db",
        "colab": {
          "base_uri": "https://localhost:8080/",
          "height": 35
        }
      },
      "source": [
        "def ejemplo10( n ):\n",
        "    count = 0\n",
        "    for i in range( n ) :\n",
        "        for j in range( i+1 ) :\n",
        "            count += 1\n",
        "    return count\n",
        "print(ejemplo10(5))\n",
        "#T(n) = 1 + (n^2+n)/2"
      ],
      "execution_count": 5,
      "outputs": [
        {
          "output_type": "stream",
          "text": [
            "15\n"
          ],
          "name": "stdout"
        }
      ]
    }
  ]
}