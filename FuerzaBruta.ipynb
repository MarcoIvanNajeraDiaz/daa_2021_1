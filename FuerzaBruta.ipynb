{
  "nbformat": 4,
  "nbformat_minor": 0,
  "metadata": {
    "colab": {
      "name": "FuerzaBruta.ipynb",
      "provenance": [],
      "collapsed_sections": [],
      "authorship_tag": "ABX9TyM4OMp5DK1BkXaPJwYQeYZE",
      "include_colab_link": true
    },
    "kernelspec": {
      "name": "python3",
      "display_name": "Python 3"
    }
  },
  "cells": [
    {
      "cell_type": "markdown",
      "metadata": {
        "id": "view-in-github",
        "colab_type": "text"
      },
      "source": [
        "<a href=\"https://colab.research.google.com/github/MarcoIvanNajeraDiaz/daa_2021_1/blob/master/FuerzaBruta.ipynb\" target=\"_parent\"><img src=\"https://colab.research.google.com/assets/colab-badge.svg\" alt=\"Open In Colab\"/></a>"
      ]
    },
    {
      "cell_type": "code",
      "metadata": {
        "colab": {
          "base_uri": "https://localhost:8080/"
        },
        "id": "MITNBmF3AdS4",
        "outputId": "4314d829-ad51-495d-e878-a08e9d1dfdcd"
      },
      "source": [
        "import re \n",
        "cadena = '''El lema que anima a la Universidad Nacional, Por mi raza hablará el espíritu, revela la vocación humanística \n",
        "con la que fue concebida. El autor de esta célebre frase, José Vasconcelos, \n",
        "asumió la rectoría en 1920, en una época en que las esperanzas de la Revolución aún estaban vivas,\n",
        "había una gran fé en la Patria y el ánimo redentor se extendía en el ambiente.'''\n",
        "\n",
        "remover = \".,\"\n",
        "for caracterEspecial in remover:\n",
        "  cadena = cadena.replace(caracterEspecial,\"\")\n",
        "\n",
        "cadena = cadena.lower()\n",
        "\n",
        "print(cadena)\n",
        "print(\"\\n\")\n",
        "\n",
        "palabras = cadena.split(\" \")\n",
        "\n",
        "frecuencias = {}\n",
        "for palabra in palabras:\n",
        "    if palabra in frecuencias:\n",
        "        frecuencias[palabra] += 1\n",
        "    else: \n",
        "        frecuencias[palabra] = 1\n",
        "\n",
        "for palabra in frecuencias:\n",
        "    frecuencia = frecuencias[palabra]\n",
        "    print(f\"Esta palabra '{palabra}' tiene una frecuencia de '{frecuencia}'\")\n",
        "\n"
      ],
      "execution_count": null,
      "outputs": [
        {
          "output_type": "stream",
          "text": [
            "el lema que anima a la universidad nacional por mi raza hablará el espíritu revela la vocación humanística \n",
            "con la que fue concebida el autor de esta célebre frase josé vasconcelos \n",
            "asumió la rectoría en 1920 en una época en que las esperanzas de la revolución aún estaban vivas\n",
            "había una gran fé en la patria y el ánimo redentor se extendía en el ambiente\n",
            "\n",
            "\n",
            "Esta palabra 'el' tiene una frecuencia de '5'\n",
            "Esta palabra 'lema' tiene una frecuencia de '1'\n",
            "Esta palabra 'que' tiene una frecuencia de '3'\n",
            "Esta palabra 'anima' tiene una frecuencia de '1'\n",
            "Esta palabra 'a' tiene una frecuencia de '1'\n",
            "Esta palabra 'la' tiene una frecuencia de '6'\n",
            "Esta palabra 'universidad' tiene una frecuencia de '1'\n",
            "Esta palabra 'nacional' tiene una frecuencia de '1'\n",
            "Esta palabra 'por' tiene una frecuencia de '1'\n",
            "Esta palabra 'mi' tiene una frecuencia de '1'\n",
            "Esta palabra 'raza' tiene una frecuencia de '1'\n",
            "Esta palabra 'hablará' tiene una frecuencia de '1'\n",
            "Esta palabra 'espíritu' tiene una frecuencia de '1'\n",
            "Esta palabra 'revela' tiene una frecuencia de '1'\n",
            "Esta palabra 'vocación' tiene una frecuencia de '1'\n",
            "Esta palabra 'humanística' tiene una frecuencia de '1'\n",
            "Esta palabra '\n",
            "con' tiene una frecuencia de '1'\n",
            "Esta palabra 'fue' tiene una frecuencia de '1'\n",
            "Esta palabra 'concebida' tiene una frecuencia de '1'\n",
            "Esta palabra 'autor' tiene una frecuencia de '1'\n",
            "Esta palabra 'de' tiene una frecuencia de '2'\n",
            "Esta palabra 'esta' tiene una frecuencia de '1'\n",
            "Esta palabra 'célebre' tiene una frecuencia de '1'\n",
            "Esta palabra 'frase' tiene una frecuencia de '1'\n",
            "Esta palabra 'josé' tiene una frecuencia de '1'\n",
            "Esta palabra 'vasconcelos' tiene una frecuencia de '1'\n",
            "Esta palabra '\n",
            "asumió' tiene una frecuencia de '1'\n",
            "Esta palabra 'rectoría' tiene una frecuencia de '1'\n",
            "Esta palabra 'en' tiene una frecuencia de '5'\n",
            "Esta palabra '1920' tiene una frecuencia de '1'\n",
            "Esta palabra 'una' tiene una frecuencia de '2'\n",
            "Esta palabra 'época' tiene una frecuencia de '1'\n",
            "Esta palabra 'las' tiene una frecuencia de '1'\n",
            "Esta palabra 'esperanzas' tiene una frecuencia de '1'\n",
            "Esta palabra 'revolución' tiene una frecuencia de '1'\n",
            "Esta palabra 'aún' tiene una frecuencia de '1'\n",
            "Esta palabra 'estaban' tiene una frecuencia de '1'\n",
            "Esta palabra 'vivas\n",
            "había' tiene una frecuencia de '1'\n",
            "Esta palabra 'gran' tiene una frecuencia de '1'\n",
            "Esta palabra 'fé' tiene una frecuencia de '1'\n",
            "Esta palabra 'patria' tiene una frecuencia de '1'\n",
            "Esta palabra 'y' tiene una frecuencia de '1'\n",
            "Esta palabra 'ánimo' tiene una frecuencia de '1'\n",
            "Esta palabra 'redentor' tiene una frecuencia de '1'\n",
            "Esta palabra 'se' tiene una frecuencia de '1'\n",
            "Esta palabra 'extendía' tiene una frecuencia de '1'\n",
            "Esta palabra 'ambiente' tiene una frecuencia de '1'\n"
          ],
          "name": "stdout"
        }
      ]
    }
  ]
}