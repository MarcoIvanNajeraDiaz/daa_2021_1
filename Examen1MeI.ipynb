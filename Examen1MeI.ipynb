{
  "nbformat": 4,
  "nbformat_minor": 0,
  "metadata": {
    "colab": {
      "name": "Examen1MeI.ipynb",
      "provenance": [],
      "authorship_tag": "ABX9TyNpR/p6g0eZ2P+A4UJWuVcW",
      "include_colab_link": true
    },
    "kernelspec": {
      "name": "python3",
      "display_name": "Python 3"
    }
  },
  "cells": [
    {
      "cell_type": "markdown",
      "metadata": {
        "id": "view-in-github",
        "colab_type": "text"
      },
      "source": [
        "<a href=\"https://colab.research.google.com/github/MarcoIvanNajeraDiaz/daa_2021_1/blob/master/Examen1MeI.ipynb\" target=\"_parent\"><img src=\"https://colab.research.google.com/assets/colab-badge.svg\" alt=\"Open In Colab\"/></a>"
      ]
    },
    {
      "cell_type": "code",
      "metadata": {
        "id": "tZUCA_FA2ExL",
        "outputId": "e42c2ee3-5645-49fe-f01e-6740387dd718",
        "colab": {
          "base_uri": "https://localhost:8080/",
          "height": 223
        }
      },
      "source": [
        "#Author: Marco Ivan Najera Diaz\n",
        "\n",
        "import csv\n",
        "import math\n",
        "import numpy \n",
        "\n",
        "print(\"OJO solamente las siguientes columnas 3,7,8,13,14,15,24,25,26,27,28,29,30,31,32,33\")\n",
        "\n",
        "def lista(columnaA,columnaB):\n",
        "    datosA = []\n",
        "    with open('EstudiantesM.csv') as documentoA:\n",
        "        lineasA = documentoA.read().splitlines()\n",
        "        lineasA.pop(0)\n",
        "\n",
        "        for i in lineasA:\n",
        "            lineaA=i.split(',')\n",
        "            datosA.append([float(lineaA[columnaA])])\n",
        "\n",
        "    datosB = []\n",
        "    with open('EstudiantesP.csv') as documentoB:\n",
        "        lineasB = documentoB.read().splitlines()\n",
        "        lineasB.pop(0)\n",
        "        for i in lineasB:\n",
        "            lineaB=i.split(',')\n",
        "            datosB.append([float(lineaB[columnaB])])\n",
        "    \n",
        "    listaA=[] \n",
        "    for i in datosA:\n",
        "        listaA.append(i[0])\n",
        "    totalA=len(listaA)\n",
        "\n",
        "    listaB=[]\n",
        "    for i in datosB:\n",
        "        listaB.append(i[0])\n",
        "    totalB=len(listaB)\n",
        "\n",
        "    #Media\n",
        "    sumA=0\n",
        "    sumB=0\n",
        "    for i in listaA:\n",
        "        sumA=sumA+i\n",
        "        mediaA = sumA /totalA\n",
        "    #Varianza\n",
        "    varianzaA=numpy.var(listaA)\n",
        "    #Desviacion Estandar\n",
        "    desviacionA=math.sqrt(varianzaA)\n",
        "    print(\"\")\n",
        "    print(f\"La media del documento de los estudiantes de matematicas es: {mediaA}\")\n",
        "    print(f\"La varianza del documento de los estudiantes de matematicas es: {varianzaA}\")\n",
        "    print(f\"La desviación estándar del documento de los estudiantes de matematicas A es: {desviacionA} \")\n",
        "    for i in listaB:\n",
        "        sumB=sumB+i\n",
        "        mediaB = sumB/totalB\n",
        "    varianzaB=numpy.var(listaB)\n",
        "    desviacionB=math.sqrt(varianzaB)\n",
        "    print(\"\")\n",
        "    print(f\"La media del documento de los estudiantes de portugues es: {mediaB}\")\n",
        "    print(f\"La varianza del documento de los estudiantes de portugues es: {varianzaB}\")\n",
        "    print(f\"La desviación estándar del documento de los estudiantes de portugues es: {desviacionB} \")\n",
        "\n",
        "entradaA=int(input(\"Selecciona el número que quieres de columna en el documento de los estudiantes de matematicas: \"))\n",
        "entradaB=int(input(\"Selecciona el número que quieres de columna en el documento de los estudiantes de portugues: \"))\n",
        "lista(entradaA-1,entradaB-1)"
      ],
      "execution_count": 10,
      "outputs": [
        {
          "output_type": "stream",
          "text": [
            "OJO solamente las siguientes columnas 3,7,8,13,14,15,24,25,26,27,28,29,30,31,32,33\n",
            "Selecciona el número que quieres de columna en el documento de los estudiantes de matematicas: 3\n",
            "Selecciona el número que quieres de columna en el documento de los estudiantes de portugues: 3\n",
            "\n",
            "La media del documento de los estudiantes de matematicas es: 16.696202531645568\n",
            "La varianza del documento de los estudiantes de matematicas es: 1.6241627944239705\n",
            "La desviación estándar del documento de los estudiantes de matematicas A es: 1.2744264570480206 \n",
            "\n",
            "La media del documento de los estudiantes de portugues es: 16.7442218798151\n",
            "La varianza del documento de los estudiantes de portugues es: 1.4815729307385312\n",
            "La desviación estándar del documento de los estudiantes de portugues es: 1.2171988049363716 \n"
          ],
          "name": "stdout"
        }
      ]
    }
  ]
}