{
  "nbformat": 4,
  "nbformat_minor": 0,
  "metadata": {
    "colab": {
      "name": "7Octubre.ipynb",
      "provenance": [],
      "authorship_tag": "ABX9TyP/yccgviXQKVayrYnTw+RQ",
      "include_colab_link": true
    },
    "kernelspec": {
      "name": "python3",
      "display_name": "Python 3"
    }
  },
  "cells": [
    {
      "cell_type": "markdown",
      "metadata": {
        "id": "view-in-github",
        "colab_type": "text"
      },
      "source": [
        "<a href=\"https://colab.research.google.com/github/MarcoIvanNajeraDiaz/daa_2021_1/blob/master/7Octubre.ipynb\" target=\"_parent\"><img src=\"https://colab.research.google.com/assets/colab-badge.svg\" alt=\"Open In Colab\"/></a>"
      ]
    },
    {
      "cell_type": "markdown",
      "metadata": {
        "id": "gGF9_xhPSjL1"
      },
      "source": [
        "#Busqueda Lineal\n",
        "\n",
        "Dada un conjunto de datos no ordenados, la busqueda lineal consiste en recorrer el conjunto de datos desde el inicio al final, moviendose de 1 en 1 hasta encontrar el elemento o llegar al final del conjunto.\n",
        "\n",
        "datos = [ 4,18,47,2,34,14,78,12,48,21,31,19,1,3,5]\n",
        "\n",
        "# Busqueda binaria \n",
        "Funciona sobre un conjunto de datos lineal ordenado.\n",
        "Consiste en dividir el conjunto en mitades\n",
        "y buscar en esa mitad. si el elemento \n",
        "buscado no esta en la mitad, preguntas si \n",
        "el elemento esta a la derecha o a la izquierda.\n",
        "Haces la lista igual a la mitad \n",
        "correspondiente y repites el proceso.\n",
        "\n",
        "L = [1, 2, 3, 4, 5, 12, 14, 18, 19, 21, 31, 34, 47, 48, 78]\n",
        "\n",
        "DER = longitud( L )-1\n",
        "\n",
        "IZQ = 0\n",
        "\n",
        "MID apuntara a la mitad del segmento de\n",
        "busqueda\n",
        "\n",
        "buscado: es el valor a buscar\n",
        "\n",
        "1. Hacer DER = longitud( L )-1\n",
        "2. Hacer IZQ = 0\n",
        "3. si IZQ > DER significa que hay un\n",
        "error en los datos\n",
        "4. calcular MID = int( (IZQ + DER)/2 )\n",
        "5. mientras L[MID] != buscado hacer \n",
        "6.  - preguntar L[MID] > buscado\n",
        "        - hacer DER = mid\n",
        "    - de lo contrario \n",
        "        - hacer IZQ = mid\n",
        "    - preguntar (DER - IZQ) %2\n",
        "        - MID = (IZQ + ((DER - IZQ)/ 2))+1\n",
        "    - de lo contrario \n",
        "        - MID = IZQ+ ((DER -IZQ) / 2)\n",
        "7. return MID\n"
      ]
    },
    {
      "cell_type": "code",
      "metadata": {
        "id": "xC5dBoPHSkUj",
        "outputId": "1dd90257-2ad4-4757-d7f9-c9994f60b082",
        "colab": {
          "base_uri": "https://localhost:8080/"
        }
      },
      "source": [
        "\"\"\"\n",
        "Busqueda Lineal\n",
        "regresa la posicion del elemento 'buscado' si se encuentra dentro de la lista\n",
        "regresa -1 si el elemento buscado dentro no existe dentro de la lista \n",
        "\"\"\"\n",
        "def busq_lineal( L , buscado ):\n",
        "    indice = -1\n",
        "    contador = 0;\n",
        "    for idx in range (len(L)):\n",
        "      contador +=1;\n",
        "      if L[idx] == buscado:\n",
        "            indice = idx\n",
        "            break\n",
        "    print(f\"Numero de comparaciones realizadas={contador}\")\n",
        "    return indice\n",
        "\n",
        "\"\"\"\n",
        "Busqueda binaria\n",
        "\"\"\"\n",
        "def busqueda_binaria( L , buscado)\n",
        "    IZQ = 0\n",
        "    DER = len(L)-1\n",
        "    MID = int(IZQ + DER) /2)\n",
        "    if len(L) % 2 == 0;\n",
        "        MID = (DER //2)+1\n",
        "    else:\n",
        "        MID = DER//2\n",
        "\n",
        "    while (L[MID] != buscado):\n",
        "        if L[MID] > buscado:\n",
        "            DER = MID\n",
        "        else:\n",
        "            IZQ = MID\n",
        "        if (DER - IZQ) % 2 ==0:\n",
        "            MID = (IZQ+((DER-IZQ)//2))+1\n",
        "        else:\n",
        "            MID = IZQ + ((DER-IZQ)//2)\n",
        "    return MID\n",
        "\n",
        "def main():\n",
        "  datos = [ 4,18,47,2,34,14,78,12,48,21,31,19,1,3,5]\n",
        "  dato = int(input(\"Que valor quieres buscar:\"))\n",
        "  resultado = busq_lineal( datos , dato )\n",
        "  print(\"Resultado:\",resultado)\n",
        "  \n",
        "  print(\"Busqueda lineal en una lista ordenada\")\n",
        "  datos.sort()\n",
        "  print(datos)\n",
        "  resultado = busq_lineal( datos , dato )\n",
        "  print(\"Resultado:\",resultado)\n",
        "\n",
        "  print(\"busqudea binaria\")\n",
        "  posicion = busqueda_binaria( datos , dato )\n",
        "  print(f\"El elemento {dato} esta en la posicion {posicion} de la lista\")\n",
        "main()\n"
      ],
      "execution_count": 5,
      "outputs": [
        {
          "output_type": "stream",
          "text": [
            "Que valor quieres buscar:3\n",
            "Numero de comparaciones realizadas=14\n",
            "Resultado: 13\n",
            "Busqueda lineal en una lista ordenada\n",
            "[1, 2, 3, 4, 5, 12, 14, 18, 19, 21, 31, 34, 47, 48, 78]\n",
            "Numero de comparaciones realizadas=3\n",
            "Resultado: 2\n"
          ],
          "name": "stdout"
        }
      ]
    }
  ]
}