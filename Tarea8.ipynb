{
  "nbformat": 4,
  "nbformat_minor": 0,
  "metadata": {
    "colab": {
      "name": "Tarea8.ipynb",
      "provenance": [],
      "authorship_tag": "ABX9TyM1MxSwqieY6yV7xNtbJlmw",
      "include_colab_link": true
    },
    "kernelspec": {
      "name": "python3",
      "display_name": "Python 3"
    }
  },
  "cells": [
    {
      "cell_type": "markdown",
      "metadata": {
        "id": "view-in-github",
        "colab_type": "text"
      },
      "source": [
        "<a href=\"https://colab.research.google.com/github/MarcoIvanNajeraDiaz/daa_2021_1/blob/master/Tarea8.ipynb\" target=\"_parent\"><img src=\"https://colab.research.google.com/assets/colab-badge.svg\" alt=\"Open In Colab\"/></a>"
      ]
    },
    {
      "cell_type": "code",
      "metadata": {
        "colab": {
          "base_uri": "https://localhost:8080/"
        },
        "id": "VMl5Wkmb5GLb",
        "outputId": "98196d72-fb86-428c-f7aa-318bd6ec99b7"
      },
      "source": [
        "alumno1={'id':2, 'nombre':\"Juan\" , 'carrera':\"ICO\", 'promedio':7.67}\r\n",
        "alumno2={'id':4, 'nombre':\"Rocio\" , 'carrera':\"ICI\", 'promedio':8.67}\r\n",
        "alumno3={'id':5, 'nombre':\"Diego\" , 'carrera':\"DER\", 'promedio':8.98}\r\n",
        "alumno4={'id':7, 'nombre':\"May\" , 'carrera':\"ICI\", 'promedio':9.87}\r\n",
        "alumno5={'id':9, 'nombre':\"Rob\" , 'carrera':\"IME\", 'promedio':10.00}\r\n",
        "alumno6={'id':10, 'nombre':\"Santi\" , 'carrera':\"ICO\", 'promedio':5.37}\r\n",
        "alumno7={'id':14, 'nombre':\"Moy\" , 'carrera':\"IME\", 'promedio':6.85}\r\n",
        "alumno8={'id':16, 'nombre':\"Diana\" , 'carrera':\"DER\", 'promedio':9.99}\r\n",
        "alumno9={'id':19, 'nombre':\"Zoila\" , 'carrera':\"ICO\", 'promedio':8.22}\r\n",
        "alumno10={'id':22, 'nombre':\"Armando\" , 'carrera':\"ICO\", 'promedio':7.32}\r\n",
        "\r\n",
        "bd = []\r\n",
        "bd.append(alumno1)\r\n",
        "bd.append(alumno2)\r\n",
        "bd.append(alumno3)\r\n",
        "bd.append(alumno4)\r\n",
        "bd.append(alumno5)\r\n",
        "bd.append(alumno6)\r\n",
        "bd.append(alumno7)\r\n",
        "bd.append(alumno8)\r\n",
        "bd.append(alumno9)\r\n",
        "bd.append(alumno10)\r\n",
        "\r\n",
        "id = int(input(\"Introduce el ID a buscar: \"))\r\n",
        "\r\n",
        "def busquedaBin(id, lista, inicio, final):\r\n",
        "    mediana = (inicio + final) // 2\r\n",
        "    if inicio >= final:\r\n",
        "        print(\"El alumno no existe en la base de datos\")\r\n",
        "    elif lista[mediana].get('id') == id:\r\n",
        "        return mediana\r\n",
        "    elif lista[mediana].get('id') < id:\r\n",
        "        return busquedaBin(id, lista, (mediana+1), final)\r\n",
        "    else:\r\n",
        "        return busquedaBin(id, lista, inicio, mediana)\r\n",
        "\r\n",
        "resultado = busquedaBin(id, bd, 0, len(bd))\r\n",
        "print(f\"{bd[resultado].get('nombre')} estudia en la carrera de {bd[resultado].get('carrera')} y tiene un promedio de {bd[resultado].get('promedio')}\")"
      ],
      "execution_count": 20,
      "outputs": [
        {
          "output_type": "stream",
          "text": [
            "Introduce el ID a buscar: 10\n",
            "Santi estudia en la carrera de ICO y tiene un promedio de 5.37\n"
          ],
          "name": "stdout"
        }
      ]
    }
  ]
}