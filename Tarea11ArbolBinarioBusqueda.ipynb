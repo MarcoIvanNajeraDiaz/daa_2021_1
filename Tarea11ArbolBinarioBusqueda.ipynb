{
  "nbformat": 4,
  "nbformat_minor": 0,
  "metadata": {
    "colab": {
      "name": "Tarea11ArbolBinarioBusqueda.ipynb",
      "provenance": [],
      "collapsed_sections": [],
      "authorship_tag": "ABX9TyOpVGXaYLM5a3xXSwGQ4ZPM",
      "include_colab_link": true
    },
    "kernelspec": {
      "name": "python3",
      "display_name": "Python 3"
    }
  },
  "cells": [
    {
      "cell_type": "markdown",
      "metadata": {
        "id": "view-in-github",
        "colab_type": "text"
      },
      "source": [
        "<a href=\"https://colab.research.google.com/github/MarcoIvanNajeraDiaz/daa_2021_1/blob/master/Tarea11ArbolBinarioBusqueda.ipynb\" target=\"_parent\"><img src=\"https://colab.research.google.com/assets/colab-badge.svg\" alt=\"Open In Colab\"/></a>"
      ]
    },
    {
      "cell_type": "code",
      "metadata": {
        "id": "21OtXJ_mMW0-"
      },
      "source": [
        "class NodoArbol:\r\n",
        "    def __init__( self , dato ,  hijo_izq=None , hijo_der=None):\r\n",
        "        self.dato = dato\r\n",
        "        self.left = hijo_izq\r\n",
        "        self.right = hijo_der"
      ],
      "execution_count": 2,
      "outputs": []
    },
    {
      "cell_type": "markdown",
      "metadata": {
        "id": "nIkp5kJAMj_0"
      },
      "source": [
        "#Arbol binario de busqueda\r\n",
        "\r\n",
        "Los nodos a la izq son menores a la raiz y los nodos a la derecha son mayores a la raiz.\r\n",
        "Pueden ser recorridos en: pre-orden, in-orden y post-orden"
      ]
    },
    {
      "cell_type": "code",
      "metadata": {
        "id": "0sYInCb_SvRd"
      },
      "source": [
        "class BinarySearchTree:\r\n",
        "    def __init__( self ):\r\n",
        "        self.__root = None\r\n",
        "\r\n",
        "    def insert( self , value ):\r\n",
        "        if self.__root == None:\r\n",
        "            self.__root = NodoArbol(value,None,None)\r\n",
        "        else:\r\n",
        "            #Preguntar si value es menor que root, de ser el caso\r\n",
        "            #insertar a la izq... Pero puede ser el caso que el\r\n",
        "            #sub arbol izq ya tenga muchos elementos\r\n",
        "            self.__insert_nodo__(self.__root , value)\r\n",
        "\r\n",
        "    def __insert_nodo__( self , nodo , value ):\r\n",
        "        if nodo.dato == value:\r\n",
        "            pass\r\n",
        "        elif value < nodo.dato: #Si es True va a la izquierda\r\n",
        "            if nodo.left == None: #Si hay espacio en la izquierda, ahi le toca\r\n",
        "                nodo.left = NodoArbol(value,None,None) #Insertamos el Nodo\r\n",
        "            else: \r\n",
        "                self.__insert_nodo__( nodo.left , value )#Buscar su posicion en subarbol izquierdo\r\n",
        "        else: #Ir a la derecha\r\n",
        "            if nodo.right == None:\r\n",
        "                nodo.right =  NodoArbol(value,None,None)\r\n",
        "            else: \r\n",
        "                self.__insert_nodo__(nodo.right,value)#Buscar su posicion en subarbol derecho \r\n",
        "\r\n",
        "    def buscar( self , value ):\r\n",
        "          if self.__root == None:\r\n",
        "              return None\r\n",
        "          else:\r\n",
        "              return self.__busca_nodo( self.__root , value )\r\n",
        "\r\n",
        "    def __busca_nodo( self , nodo , value ):\r\n",
        "          if nodo == None: \r\n",
        "              return None\r\n",
        "          elif nodo.dato == value:\r\n",
        "              return nodo.dato\r\n",
        "          elif value < nodo.dato:\r\n",
        "              return self.__busca_nodo( nodo.left , value )\r\n",
        "          else:\r\n",
        "              return self.__busca_nodo( nodo.right , value )\r\n",
        "    \r\n",
        "    def transversal( self , format = \"inorden\" ):\r\n",
        "        if format == \"inorden\":\r\n",
        "            self.__recorrido_in(self.__root)\r\n",
        "        elif format == \"preorden\" :\r\n",
        "            self.__recorrido_pre(self.__root)\r\n",
        "        elif format ==\"posorden\":\r\n",
        "            self.__recorrido_pos(self.__root)\r\n",
        "        else: \r\n",
        "          print(\"Formato de recorrido no valido\")\r\n",
        "\r\n",
        "    def __recorrido_pre(self , nodo):\r\n",
        "        if nodo != None:\r\n",
        "            print (nodo.dato, end=\",\")\r\n",
        "            self.__recorrido_pre(nodo.left)\r\n",
        "            self.__recorrido_pre(nodo.right)\r\n",
        "\r\n",
        "    def __recorrido_in(self, nodo):\r\n",
        "        if nodo != None:\r\n",
        "            self.__recorrido_in(nodo.left)\r\n",
        "            print(nodo.dato, end=\",\")\r\n",
        "            self.__recorrido_in(nodo.right)\r\n",
        "\r\n",
        "    def __recorrido_pos(self,nodo):\r\n",
        "        if nodo != None:\r\n",
        "            self.__recorrido_pos(nodo.left)\r\n",
        "            self.__recorrido_pos(nodo.right)\r\n",
        "            print(nodo.dato, end=\",\")\r\n",
        "\r\n"
      ],
      "execution_count": 6,
      "outputs": []
    },
    {
      "cell_type": "code",
      "metadata": {
        "id": "EEby18cXbwY-",
        "colab": {
          "base_uri": "https://localhost:8080/"
        },
        "outputId": "64062441-db95-4e96-f409-880632e736e2"
      },
      "source": [
        "bst = BinarySearchTree()\r\n",
        "bst.insert(50)\r\n",
        "bst.insert(40)\r\n",
        "bst.insert(80)\r\n",
        "bst.insert(20)\r\n",
        "bst.insert(45)\r\n",
        "bst.insert(60)\r\n",
        "bst.insert(90)\r\n",
        "bst.insert(85)\r\n",
        "bst.insert(100)\r\n",
        "bst.insert(95)\r\n",
        "res = bst.buscar(30)#True or False\r\n",
        "print(\"Dato: \"+str(res))\r\n",
        "print(bst.buscar(40))\r\n",
        "print(bst.buscar(14))\r\n",
        "print(\"Recorrido: \")\r\n",
        "print(\"Preorden\")\r\n",
        "bst.transversal(format=\"preorden\")\r\n",
        "print(\"\\nInorden\")\r\n",
        "bst.transversal(format=\"inorden\")\r\n",
        "print(\"\\nPosorden\")\r\n",
        "bst.transversal(format=\"posorden\")\r\n",
        "\r\n",
        "print(\"\\n\\nArbol Binario Busqueda\")\r\n",
        "print(\"                     50\")\r\n",
        "print(\"            40                80\")\r\n",
        "print(\"      20          45     60         90\")\r\n",
        "print(\"                               85         100\")\r\n",
        "print(\"                                     95\")\r\n",
        "\r\n"
      ],
      "execution_count": 13,
      "outputs": [
        {
          "output_type": "stream",
          "text": [
            "Dato: None\n",
            "40\n",
            "None\n",
            "Recorrido: \n",
            "Preorden\n",
            "50,40,20,45,80,60,90,85,100,95,\n",
            "Inorden\n",
            "20,40,45,50,60,80,85,90,95,100,\n",
            "Posorden\n",
            "20,45,40,60,85,95,100,90,80,50,\n",
            "\n",
            "Arbol Binario Busqueda\n",
            "                     50\n",
            "            40                80\n",
            "      20          45     60         90\n",
            "                               85         100\n",
            "                                     95\n"
          ],
          "name": "stdout"
        }
      ]
    }
  ]
}